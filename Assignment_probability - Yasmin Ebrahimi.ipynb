{
 "cells": [
  {
   "cell_type": "code",
   "execution_count": 1,
   "id": "36d43d85",
   "metadata": {},
   "outputs": [],
   "source": [
    "import random"
   ]
  },
  {
   "cell_type": "markdown",
   "id": "7aadded6-094c-48a2-8b0d-dd955e260c4a",
   "metadata": {},
   "source": [
    "\n",
    "### **Mark 1**  \n",
    "A bag contains **4 red balls, 3 green balls, and 5 blue balls**. If one ball is drawn at random:  \n",
    "\n",
    "1. What is the probability that it is **red**?  \n",
    "2. What is the probability that it is **not green**?  \n",
    "3. If two balls are drawn **without replacement**, what is the probability that both are **blue**?  \n",
    "\n",
    "Solve the exercise analytically and using python simulation.\n",
    "(Ans. 1/3, 3/4, 5/33)\n"
   ]
  },
  {
   "cell_type": "markdown",
   "id": "0b8b6c36-9085-47c5-b208-e547914a3b44",
   "metadata": {},
   "source": [
    "## **Analytical solution**\n",
    "\n",
    "\n"
   ]
  },
  {
   "cell_type": "code",
   "execution_count": 3,
   "id": "e6ec81e9",
   "metadata": {},
   "outputs": [
    {
     "name": "stdout",
     "output_type": "stream",
     "text": [
      "Simulated probability of drawing a red ball: 0.333\n",
      "Simulated probability of not drawing a green ball: 0.750\n",
      "Simulated probability of drawing both balls blue (without replacement): 0.153\n"
     ]
    }
   ],
   "source": [
    "\n",
    "num_simulations = 100000\n",
    "\n",
    "red_count = 0\n",
    "not_green_count = 0\n",
    "both_blue_count = 0\n",
    "\n",
    "balls = ['red'] * 4 + ['green'] * 3 + ['blue'] * 5\n",
    "\n",
    "# loop\n",
    "for _ in range(num_simulations):\n",
    "\n",
    "    ball_drawn = random.choice(balls)\n",
    "    \n",
    "\n",
    "    if ball_drawn == 'red':\n",
    "        red_count += 1\n",
    "    if ball_drawn != 'green':\n",
    "        not_green_count += 1\n",
    "    \n",
    " \n",
    "    sample = random.sample(balls, 2)\n",
    "    if sample == ['blue', 'blue']:\n",
    "        both_blue_count += 1\n",
    "\n",
    "\n",
    "prob_red = red_count / num_simulations\n",
    "prob_not_green = not_green_count / num_simulations\n",
    "prob_both_blue = both_blue_count / num_simulations\n",
    "\n",
    "#results\n",
    "print(f\"Simulated probability of drawing a red ball: {prob_red:.3f}\")\n",
    "print(f\"Simulated probability of not drawing a green ball: {prob_not_green:.3f}\")\n",
    "print(f\"Simulated probability of drawing both balls blue (without replacement): {prob_both_blue:.3f}\")\n"
   ]
  },
  {
   "cell_type": "markdown",
   "id": "f4434cec-3471-49fd-a47e-2dc859b4dfc6",
   "metadata": {},
   "source": [
    "### **Mark 2**\n",
    "\n",
    "A fair coin is flipped **15 times**.  \n",
    "\n",
    "1. What is the probability of getting **at least 4 heads**?  \n",
    "2. Given that **at least 4 head** appears, what is the probability that **at most 7 heads** appear?\n",
    "\n",
    "Solve the problem analytically and by python simulation.\n",
    "\n",
    "(Ans. 0.9824, 0.4911)\n"
   ]
  },
  {
   "cell_type": "markdown",
   "id": "8ee50d39-c876-423a-aa68-8137ae12a513",
   "metadata": {},
   "source": [
    "## **Analytical solution**\n",
    "\n"
   ]
  },
  {
   "cell_type": "code",
   "execution_count": 4,
   "id": "fcba2a36",
   "metadata": {},
   "outputs": [
    {
     "name": "stdout",
     "output_type": "stream",
     "text": [
      "Simulated probability of getting at least 4 heads: 0.9828\n",
      "Simulated probability of at most 7 heads given at least 4 heads: 0.4896\n"
     ]
    }
   ],
   "source": [
    "num_simulations = 100000\n",
    "\n",
    "at_least_4_heads_count = 0\n",
    "at_least_4_heads_and_at_most_7_count = 0\n",
    "\n",
    "#loop\n",
    "for _ in range(num_simulations):\n",
    "\n",
    "    heads_count = sum(random.choice([0, 1]) for _ in range(15))\n",
    "    \n",
    "\n",
    "    if heads_count >= 4:\n",
    "        at_least_4_heads_count += 1\n",
    "        if heads_count <= 7:\n",
    "            at_least_4_heads_and_at_most_7_count += 1\n",
    "\n",
    "\n",
    "prob_at_least_4_heads = at_least_4_heads_count / num_simulations\n",
    "prob_at_least_4_heads_and_at_most_7 = at_least_4_heads_and_at_most_7_count / at_least_4_heads_count\n",
    "\n",
    "#results\n",
    "print(f\"Simulated probability of getting at least 4 heads: {prob_at_least_4_heads:.4f}\")\n",
    "print(f\"Simulated probability of at most 7 heads given at least 4 heads: {prob_at_least_4_heads_and_at_most_7:.4f}\")"
   ]
  },
  {
   "cell_type": "markdown",
   "id": "a5888499-d259-4b7d-932d-9637cb648ee5",
   "metadata": {},
   "source": [
    "### **Mark 3**  \n",
    "A gambler starts with **\\$2** and plays a game where:  \n",
    "- Each bet is **\\$1**.  \n",
    "- With probability **0.6**, they win **\\$1** (net gain +1).  \n",
    "- With probability **0.4**, they lose **\\$1** (net gain -1).  \n",
    "\n",
    "The gambler stops when they reach **\\$4** (win) or **\\$0** (ruin).  \n",
    "\n",
    "**Task:**  \n",
    "   **Simulate this scenario in Python** and estimate:  \n",
    "   - The probability of reaching **\\$4** before **\\$0**.  \n",
    "   - The average number of bets before stopping.\n",
    "   - Write the simulation as a function where the amounts and probabilities are parameters\n",
    "\n"
   ]
  },
  {
   "cell_type": "code",
   "execution_count": 6,
   "id": "542c544d",
   "metadata": {},
   "outputs": [
    {
     "name": "stdout",
     "output_type": "stream",
     "text": [
      "Estimated probability of reaching $4 before $0: 0.6952\n",
      "Average number of bets before stopping: 3.85\n"
     ]
    }
   ],
   "source": [
    "def simulate_gambler(initial_amount=2, target_amount=4, bet_amount=1, win_probability=0.6):\n",
    "\n",
    "    current_amount = initial_amount\n",
    "    num_bets = 0\n",
    "    \n",
    "    while current_amount > 0 and current_amount < target_amount:\n",
    "       \n",
    "        num_bets += 1\n",
    "        \n",
    " \n",
    "        if random.random() < win_probability:\n",
    "            current_amount += bet_amount  # Win\n",
    "        else:\n",
    "            current_amount -= bet_amount  # Lose\n",
    "    \n",
    "    reached_target = (current_amount == target_amount)\n",
    "    \n",
    "    return reached_target, num_bets\n",
    "\n",
    "\n",
    "num_simulations = 100000\n",
    "success_count = 0\n",
    "total_bets = 0\n",
    "\n",
    "for _ in range(num_simulations):\n",
    "    reached_target, num_bets = simulate_gambler()\n",
    "    total_bets += num_bets\n",
    "    if reached_target:\n",
    "        success_count += 1\n",
    "\n",
    "\n",
    "probability_reach_target = success_count / num_simulations\n",
    "average_bets = total_bets / num_simulations\n",
    "\n",
    "#results\n",
    "print(f\"Estimated probability of reaching $4 before $0: {probability_reach_target:.4f}\")\n",
    "print(f\"Average number of bets before stopping: {average_bets:.2f}\")\n"
   ]
  }
 ],
 "metadata": {
  "kernelspec": {
   "display_name": "Python 3",
   "language": "python",
   "name": "python3"
  },
  "language_info": {
   "codemirror_mode": {
    "name": "ipython",
    "version": 3
   },
   "file_extension": ".py",
   "mimetype": "text/x-python",
   "name": "python",
   "nbconvert_exporter": "python",
   "pygments_lexer": "ipython3",
   "version": "3.12.5"
  }
 },
 "nbformat": 4,
 "nbformat_minor": 5
}
