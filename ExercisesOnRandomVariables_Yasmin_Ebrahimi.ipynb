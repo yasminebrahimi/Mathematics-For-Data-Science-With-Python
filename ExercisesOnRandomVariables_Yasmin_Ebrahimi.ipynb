{
  "cells": [
    {
      "cell_type": "markdown",
      "metadata": {
        "id": "yROc_Xyo0JCy"
      },
      "source": [
        "# Link to the exercise set:"
      ]
    },
    {
      "cell_type": "raw",
      "metadata": {
        "id": "WwaR2hy90JC0"
      },
      "source": [
        "https://stats.libretexts.org/Bookshelves/Introductory_Statistics/Book%3A_Inferential_Statistics_and_Probability_-_A_Holistic_Approach_(Geraghty)/15%3A_Appendix/15.02%3A_Homework_Problems/15.2.05%3A_Chapter_6_Homework\n"
      ]
    },
    {
      "cell_type": "markdown",
      "metadata": {
        "id": "4NzwUTzf0JC0"
      },
      "source": [
        "# 1 Probl. (In this exercise simulation is not needed, just calculations)\n",
        "#a) Population mean is the same as expected value (expectation)"
      ]
    },
    {
      "cell_type": "markdown",
      "metadata": {
        "id": "vSQXJrl50JC0"
      },
      "source": [
        "![image.png](attachment:image.png)"
      ]
    },
    {
      "cell_type": "markdown",
      "metadata": {
        "id": "pXQd-2ow0JC0"
      },
      "source": [
        "Solution:"
      ]
    },
    {
      "cell_type": "code",
      "source": [
        "import numpy as np\n",
        "\n",
        "#the values of X and their corresponding probabilities\n",
        "values = np.array([1, 2, 3, 4, 5, 6, 7, 8])\n",
        "probabilities = np.array([0.10, 0.25, 0.20, 0.20, 0.10, 0.05, 0.05, 0.05])\n",
        "\n",
        "# population mean E[X] = sum(x * P(X = x))\n",
        "population_mean = np.sum(values * probabilities)\n",
        "\n",
        "\n",
        "print(\"Population Mean of X:\", population_mean)\n"
      ],
      "metadata": {
        "colab": {
          "base_uri": "https://localhost:8080/"
        },
        "id": "MqJLOXN20MFG",
        "outputId": "98adf9ad-3866-45ad-82d9-4577f50ca3dd"
      },
      "execution_count": 1,
      "outputs": [
        {
          "output_type": "stream",
          "name": "stdout",
          "text": [
            "Population Mean of X: 3.55\n"
          ]
        }
      ]
    },
    {
      "cell_type": "code",
      "source": [
        "import numpy as np\n",
        "\n",
        "# values of X and their corresponding probabilities\n",
        "values = np.array([1, 2, 3, 4, 5, 6, 7, 8])\n",
        "probabilities = np.array([0.10, 0.25, 0.20, 0.20, 0.10, 0.05, 0.05, 0.05])\n",
        "\n",
        "# population mean\n",
        "population_mean = np.sum(values * probabilities)\n",
        "\n",
        "# E[X^2]\n",
        "expected_x2 = np.sum(values**2 * probabilities)\n",
        "\n",
        "#population variance Var(X) = E[X^2] - (E[X])^2\n",
        "population_variance = expected_x2 - population_mean**2\n",
        "\n",
        "# population standard deviation as the square root of the variance\n",
        "population_std = np.sqrt(population_variance)\n",
        "\n",
        "\n",
        "print(\"Population Mean of X:\", population_mean)\n",
        "print(\"Population Variance of X:\", population_variance)\n",
        "print(\"Population Standard Deviation of X:\", population_std)\n"
      ],
      "metadata": {
        "colab": {
          "base_uri": "https://localhost:8080/"
        },
        "id": "4h6cxXAa0on-",
        "outputId": "4f2c88e6-82b0-4a71-db97-97b5e789aa4c"
      },
      "execution_count": 2,
      "outputs": [
        {
          "output_type": "stream",
          "name": "stdout",
          "text": [
            "Population Mean of X: 3.55\n",
            "Population Variance of X: 3.447499999999998\n",
            "Population Standard Deviation of X: 1.8567444627627137\n"
          ]
        }
      ]
    },
    {
      "cell_type": "code",
      "source": [
        "import numpy as np\n",
        "\n",
        "values = np.array([1, 2, 3, 4, 5, 6, 7, 8])\n",
        "probabilities = np.array([0.10, 0.25, 0.20, 0.20, 0.10, 0.05, 0.05, 0.05])\n",
        "\n",
        "# probability that X > 4\n",
        "prob_over_4 = np.sum(probabilities[values > 4])\n",
        "\n",
        "print(\"Probability that the next party will have over 4 people:\", prob_over_4)\n"
      ],
      "metadata": {
        "colab": {
          "base_uri": "https://localhost:8080/"
        },
        "id": "AtiKcapH03Bh",
        "outputId": "1c5f392a-2d8b-4eab-b9de-f3e7864e210f"
      },
      "execution_count": 3,
      "outputs": [
        {
          "output_type": "stream",
          "name": "stdout",
          "text": [
            "Probability that the next party will have over 4 people: 0.25\n"
          ]
        }
      ]
    },
    {
      "cell_type": "code",
      "source": [
        "import numpy as np\n",
        "\n",
        "#values of X and their corresponding probabilities\n",
        "values = np.array([1, 2, 3, 4, 5, 6, 7, 8])\n",
        "probabilities = np.array([0.10, 0.25, 0.20, 0.20, 0.10, 0.05, 0.05, 0.05])\n",
        "\n",
        "#probability that a single party will have more than 4 people (i.e., X > 4)\n",
        "prob_over_4 = np.sum(probabilities[values > 4])\n",
        "\n",
        "# multiply the probability three times\n",
        "prob_three_parties = prob_over_4 ** 3\n",
        "\n",
        "print(\"Probability that the next three parties will each have over 4 people:\", prob_three_parties)\n"
      ],
      "metadata": {
        "colab": {
          "base_uri": "https://localhost:8080/"
        },
        "id": "v1WSytHL0-tR",
        "outputId": "1d955f9a-27da-418f-f776-dd8c03e1d319"
      },
      "execution_count": 4,
      "outputs": [
        {
          "output_type": "stream",
          "name": "stdout",
          "text": [
            "Probability that the next three parties will each have over 4 people: 0.015625\n"
          ]
        }
      ]
    },
    {
      "cell_type": "markdown",
      "metadata": {
        "id": "IeCReNt60JC1"
      },
      "source": [
        "# 2 Binomial probability"
      ]
    },
    {
      "cell_type": "markdown",
      "metadata": {
        "id": "og2tq8Fw0JC1"
      },
      "source": [
        "![image.png](attachment:image.png)"
      ]
    },
    {
      "cell_type": "markdown",
      "metadata": {
        "id": "lOuvknvW0JC1"
      },
      "source": [
        "Calculation and simulation:"
      ]
    },
    {
      "cell_type": "code",
      "source": [
        "import numpy as np\n",
        "import matplotlib.pyplot as plt\n",
        "from scipy.stats import binom\n",
        "\n",
        "# Parameters for the binomial distribution\n",
        "n = 10\n",
        "p = 0.10\n",
        "\n",
        "\n",
        "# Analytical Calculation\n",
        "\n",
        "#probabilities for k = 0, 1, ..., 10\n",
        "k = np.arange(0, n + 1)\n",
        "theoretical_probs = binom.pmf(k, n, p)\n",
        "\n",
        "print(\"Analytical (Theoretical) Probabilities:\")\n",
        "for i, prob in enumerate(theoretical_probs):\n",
        "    print(f\"P(X = {i}) = {prob:.4f}\")\n",
        "\n",
        "\n",
        "# Simulation\n",
        "\n",
        "#number of simulation trials\n",
        "num_trials = 10000\n",
        "\n",
        "# numpy's random.binomial\n",
        "simulated_outcomes = np.random.binomial(n, p, num_trials)\n",
        "\n",
        "# relative frequencies (empirical probabilities)\n",
        "sim_counts, _ = np.histogram(simulated_outcomes, bins=np.arange(-0.5, n + 1.5, 1), density=True)\n",
        "\n",
        "print(\"\\nSimulated Probabilities (from 10,000 trials):\")\n",
        "for i, sim_prob in enumerate(sim_counts):\n",
        "    print(f\"P(X = {i}) ~ {sim_prob:.4f}\")\n",
        "\n",
        "plt.figure(figsize=(8, 5))\n",
        "width = 0.4\n",
        "plt.bar(k - width/2, theoretical_probs, width=width, label='Theoretical', alpha=0.7)\n",
        "plt.bar(k + width/2, sim_counts, width=width, label='Simulated', alpha=0.7)\n",
        "plt.xlabel(\"Number of Children with Learning Disabilities\")\n",
        "plt.ylabel(\"Probability\")\n",
        "plt.title(\"Theoretical vs Simulated Binomial Distribution (n=10, p=0.10)\")\n",
        "plt.xticks(k)\n",
        "plt.legend()\n",
        "plt.show()\n"
      ],
      "metadata": {
        "colab": {
          "base_uri": "https://localhost:8080/",
          "height": 921
        },
        "id": "0BBxAjsp1syq",
        "outputId": "789c7901-f0c4-4bde-a527-36f7ed2b4f71"
      },
      "execution_count": 5,
      "outputs": [
        {
          "output_type": "stream",
          "name": "stdout",
          "text": [
            "Analytical (Theoretical) Probabilities:\n",
            "P(X = 0) = 0.3487\n",
            "P(X = 1) = 0.3874\n",
            "P(X = 2) = 0.1937\n",
            "P(X = 3) = 0.0574\n",
            "P(X = 4) = 0.0112\n",
            "P(X = 5) = 0.0015\n",
            "P(X = 6) = 0.0001\n",
            "P(X = 7) = 0.0000\n",
            "P(X = 8) = 0.0000\n",
            "P(X = 9) = 0.0000\n",
            "P(X = 10) = 0.0000\n",
            "\n",
            "Simulated Probabilities (from 10,000 trials):\n",
            "P(X = 0) ~ 0.3502\n",
            "P(X = 1) ~ 0.3849\n",
            "P(X = 2) ~ 0.1928\n",
            "P(X = 3) ~ 0.0579\n",
            "P(X = 4) ~ 0.0125\n",
            "P(X = 5) ~ 0.0016\n",
            "P(X = 6) ~ 0.0001\n",
            "P(X = 7) ~ 0.0000\n",
            "P(X = 8) ~ 0.0000\n",
            "P(X = 9) ~ 0.0000\n",
            "P(X = 10) ~ 0.0000\n"
          ]
        },
        {
          "output_type": "display_data",
          "data": {
            "text/plain": [
              "<Figure size 800x500 with 1 Axes>"
            ],
            "image/png": "[encoded data removed]"
          },
          "metadata": {}
        }
      ]
    },
    {
      "cell_type": "code",
      "source": [
        "import numpy as np\n",
        "\n",
        "# Parameters for the binomial distribution\n",
        "n = 10\n",
        "p = 0.10\n",
        "\n",
        "\n",
        "# Theoretical Calculation\n",
        "\n",
        "mean_theoretical = n * p\n",
        "variance_theoretical = n * p * (1 - p)\n",
        "std_theoretical = np.sqrt(variance_theoretical)\n",
        "\n",
        "print(\"Theoretical Mean of X:\", mean_theoretical)\n",
        "print(\"Theoretical Standard Deviation of X:\", std_theoretical)\n",
        "\n",
        "\n",
        "# Simulation\n",
        "\n",
        "#experiment to verify our theoretical results.\n",
        "num_trials = 10000\n",
        "\n",
        "\n",
        "simulated_X = np.random.binomial(n, p, num_trials)\n",
        "\n",
        "# Compute sample mean and standard deviation from simulation\n",
        "mean_simulated = np.mean(simulated_X)\n",
        "std_simulated = np.std(simulated_X)\n",
        "\n",
        "print(\"\\nSimulated Mean of X (from 10,000 trials):\", mean_simulated)\n",
        "print(\"Simulated Standard Deviation of X (from 10,000 trials):\", std_simulated)\n"
      ],
      "metadata": {
        "colab": {
          "base_uri": "https://localhost:8080/"
        },
        "id": "6kDyZDLM2YXE",
        "outputId": "8ee0512b-2493-48fd-9ce2-0062ad16dc2d"
      },
      "execution_count": 6,
      "outputs": [
        {
          "output_type": "stream",
          "name": "stdout",
          "text": [
            "Theoretical Mean of X: 1.0\n",
            "Theoretical Standard Deviation of X: 0.9486832980505138\n",
            "\n",
            "Simulated Mean of X (from 10,000 trials): 1.0105\n",
            "Simulated Standard Deviation of X (from 10,000 trials): 0.9490994415760658\n"
          ]
        }
      ]
    },
    {
      "cell_type": "code",
      "source": [
        "import numpy as np\n",
        "from scipy.stats import binom\n",
        "\n",
        "# Parameters for the binomial distribution\n",
        "n = 10\n",
        "p = 0.10\n",
        "k = 2\n",
        "\n",
        "\n",
        "# Analytical Calculation\n",
        "\n",
        "# Calculate the probability using the binom.pmf function\n",
        "probability_exactly_2 = binom.pmf(k, n, p)\n",
        "print(\"Analytical Probability that exactly 2 children have a learning disability:\", probability_exactly_2)\n",
        "\n",
        "\n",
        "# Simulation\n",
        "\n",
        "num_trials = 10000\n",
        "\n",
        "# Simulate the number of children with learning disabilities in 10,000 trials\n",
        "simulated_outcomes = np.random.binomial(n, p, num_trials)\n",
        "\n",
        "# Calculate the empirical probability that exactly 2 children have a learning disability\n",
        "simulated_probability = np.mean(simulated_outcomes == k)\n",
        "print(\"Simulated Probability that exactly 2 children have a learning disability:\", simulated_probability)\n"
      ],
      "metadata": {
        "colab": {
          "base_uri": "https://localhost:8080/"
        },
        "id": "7hhv6fRw2862",
        "outputId": "72b682cf-9a45-4927-8982-0f8e1909ea03"
      },
      "execution_count": 7,
      "outputs": [
        {
          "output_type": "stream",
          "name": "stdout",
          "text": [
            "Analytical Probability that exactly 2 children have a learning disability: 0.19371024450000007\n",
            "Simulated Probability that exactly 2 children have a learning disability: 0.1892\n"
          ]
        }
      ]
    },
    {
      "cell_type": "code",
      "source": [
        "import numpy as np\n",
        "from scipy.stats import binom\n",
        "\n",
        "# Parameters for the binomial distribution\n",
        "n = 10\n",
        "p = 0.10\n",
        "\n",
        "\n",
        "# Analytical Calculation\n",
        "\n",
        "prob_at_least_one = 1 - (1 - p) ** n\n",
        "print(\"Analytical Probability that at least 1 child has a learning disability:\", prob_at_least_one)\n",
        "\n",
        "# Alternatively, using the binom.sf function:\n",
        "prob_at_least_one_alt = binom.sf(0, n, p)\n",
        "print(\"Alternative Analytical (using binom.sf) Probability:\", prob_at_least_one_alt)\n",
        "\n",
        "# Simulation\n",
        "\n",
        "num_trials = 10000\n",
        "\n",
        "# Simulate the number of children with learning disabilities in 10,000 trials\n",
        "simulated_outcomes = np.random.binomial(n, p, num_trials)\n",
        "\n",
        "# Calculate the empirical probability that at least one child has a learning disability\n",
        "simulated_probability = np.mean(simulated_outcomes >= 1)\n",
        "print(\"Simulated Probability that at least 1 child has a learning disability:\", simulated_probability)\n"
      ],
      "metadata": {
        "colab": {
          "base_uri": "https://localhost:8080/"
        },
        "id": "I79M1Hnx3JUb",
        "outputId": "0bf2511d-31a3-41b5-b878-15824fbacb0a"
      },
      "execution_count": 8,
      "outputs": [
        {
          "output_type": "stream",
          "name": "stdout",
          "text": [
            "Analytical Probability that at least 1 child has a learning disability: 0.6513215599\n",
            "Alternative Analytical (using binom.sf) Probability: 0.6513215599000001\n",
            "Simulated Probability that at least 1 child has a learning disability: 0.6583\n"
          ]
        }
      ]
    },
    {
      "cell_type": "code",
      "source": [
        "import numpy as np\n",
        "from scipy.stats import binom\n",
        "\n",
        "# Parameters for the binomial distribution\n",
        "n = 10\n",
        "p = 0.10\n",
        "\n",
        "\n",
        "# Analytical Calculation\n",
        "prob_fewer_than_3 = binom.cdf(2, n, p)\n",
        "print(\"Analytical Probability that fewer than 3 children have a learning disability:\", prob_fewer_than_3)\n",
        "\n",
        "\n",
        "# Simulation\n",
        "\n",
        "num_trials = 10000\n",
        "\n",
        "# Simulate the number of children with learning disabilities in 10,000 trials\n",
        "simulated_outcomes = np.random.binomial(n, p, num_trials)\n",
        "\n",
        "# Calculate the empirical probability that fewer than 3 children have a learning disability\n",
        "simulated_probability = np.mean(simulated_outcomes < 3)\n",
        "print(\"Simulated Probability that fewer than 3 children have a learning disability:\", simulated_probability)\n"
      ],
      "metadata": {
        "colab": {
          "base_uri": "https://localhost:8080/"
        },
        "id": "d8ov8qDj39kR",
        "outputId": "705e5d29-e83f-46a5-d644-015d22fc7695"
      },
      "execution_count": 9,
      "outputs": [
        {
          "output_type": "stream",
          "name": "stdout",
          "text": [
            "Analytical Probability that fewer than 3 children have a learning disability: 0.9298091736\n",
            "Simulated Probability that fewer than 3 children have a learning disability: 0.9283\n"
          ]
        }
      ]
    },
    {
      "cell_type": "markdown",
      "metadata": {
        "id": "TGRl5aHi0JC1"
      },
      "source": [
        "# 3 Poisson probability"
      ]
    },
    {
      "cell_type": "markdown",
      "metadata": {
        "id": "8AiGiWqu0JC1"
      },
      "source": [
        "![image.png](attachment:image.png)"
      ]
    },
    {
      "cell_type": "code",
      "source": [
        "import numpy as np\n",
        "from scipy.stats import poisson\n",
        "\n",
        "\n",
        "# Analytical Calculation\n",
        "\n",
        "lambda_10 = 10 / 5\n",
        "print(\"Analytically, the expected number of accidents over 10 years is:\", lambda_10)\n",
        "\n",
        "# Alternatively, using the Poisson distribution:\n",
        "# For a Poisson distribution, the mean is also lambda.\n",
        "expected_accidents = lambda_10\n",
        "print(\"Expected number of accidents (using Poisson distribution):\", expected_accidents)\n",
        "\n",
        "\n",
        "# Simulation\n",
        "\n",
        "# We'll simulate the number of accidents over 10 years.\n",
        "# We'll run the simulation for a large number of trials to approximate the expected value.\n",
        "num_trials = 10000\n",
        "simulated_accidents = np.random.poisson(lam=lambda_10, size=num_trials)\n",
        "\n",
        "\n",
        "empirical_mean = np.mean(simulated_accidents)\n",
        "print(\"Simulated mean number of accidents over 10 years (from 10,000 trials):\", empirical_mean)\n"
      ],
      "metadata": {
        "colab": {
          "base_uri": "https://localhost:8080/"
        },
        "id": "yN3L_MLJ4UfF",
        "outputId": "bcb955e2-525a-448b-ec08-dfbfe6033474"
      },
      "execution_count": 10,
      "outputs": [
        {
          "output_type": "stream",
          "name": "stdout",
          "text": [
            "Analytically, the expected number of accidents over 10 years is: 2.0\n",
            "Expected number of accidents (using Poisson distribution): 2.0\n",
            "Simulated mean number of accidents over 10 years (from 10,000 trials): 2.0008\n"
          ]
        }
      ]
    },
    {
      "cell_type": "code",
      "source": [
        "import numpy as np\n",
        "from scipy.stats import poisson\n",
        "\n",
        "\n",
        "\n",
        "# Given the average rate is 1 accident per 5 years,\n",
        "# the expected number of accidents over 10 years is:\n",
        "lambda_10 = 10 / 5\n",
        "\n",
        "\n",
        "# Analytical Calculation\n",
        "\n",
        "#   P(X = 0) = (lambda^0 * exp(-lambda)) / 0! = exp(-lambda)\n",
        "prob_no_accidents = poisson.pmf(0, lambda_10)\n",
        "print(\"Analytical probability of no accidents in the next 10 years:\", prob_no_accidents)\n",
        "\n",
        "\n",
        "# Simulation\n",
        "\n",
        "num_trials = 10000\n",
        "\n",
        "# Simulate the number of accidents over 10 years using the Poisson distribution\n",
        "simulated_accidents = np.random.poisson(lam=lambda_10, size=num_trials)\n",
        "\n",
        "simulated_probability = np.mean(simulated_accidents == 0)\n",
        "print(\"Simulated probability of no accidents in the next 10 years:\", simulated_probability)\n"
      ],
      "metadata": {
        "colab": {
          "base_uri": "https://localhost:8080/"
        },
        "id": "37tuh4VF4a_z",
        "outputId": "81020aa9-8398-4032-d732-62796ee75bfc"
      },
      "execution_count": 11,
      "outputs": [
        {
          "output_type": "stream",
          "name": "stdout",
          "text": [
            "Analytical probability of no accidents in the next 10 years: 0.1353352832366127\n",
            "Simulated probability of no accidents in the next 10 years: 0.129\n"
          ]
        }
      ]
    },
    {
      "cell_type": "code",
      "source": [
        "import numpy as np\n",
        "from scipy.stats import poisson\n",
        "\n",
        "\n",
        "# Given the average rate is 1 accident per 5 years,\n",
        "# the expected number of accidents over 20 years is:\n",
        "lambda_20 = 20 / 5\n",
        "\n",
        "\n",
        "# Analytical Calculation\n",
        "#   P(X = 0) = (lambda^0 * exp(-lambda)) / 0! = exp(-lambda)\n",
        "prob_no_accidents_20 = poisson.pmf(0, lambda_20)\n",
        "print(\"Analytical probability of no accidents in the next 20 years:\", prob_no_accidents_20)\n",
        "\n",
        "\n",
        "# Simulation\n",
        "\n",
        "num_trials = 10000\n",
        "\n",
        "# Simulate the number of accidents over 20 years using the Poisson distribution\n",
        "simulated_accidents_20 = np.random.poisson(lam=lambda_20, size=num_trials)\n",
        "\n",
        "# Calculate the empirical probability of 0 accidents\n",
        "simulated_probability_20 = np.mean(simulated_accidents_20 == 0)\n",
        "print(\"Simulated probability of no accidents in the next 20 years:\", simulated_probability_20)\n"
      ],
      "metadata": {
        "colab": {
          "base_uri": "https://localhost:8080/"
        },
        "id": "KCzk84aY4h7S",
        "outputId": "e36d0941-0516-4aee-a7c9-a44ee3ff58f9"
      },
      "execution_count": 12,
      "outputs": [
        {
          "output_type": "stream",
          "name": "stdout",
          "text": [
            "Analytical probability of no accidents in the next 20 years: 0.01831563888873418\n",
            "Simulated probability of no accidents in the next 20 years: 0.0163\n"
          ]
        }
      ]
    },
    {
      "cell_type": "markdown",
      "metadata": {
        "id": "EdBD2jTa0JC2"
      },
      "source": [
        "# 4 Normal distribution"
      ]
    },
    {
      "cell_type": "markdown",
      "metadata": {
        "id": "zO_6Sr0Y0JC2"
      },
      "source": [
        "![image.png](attachment:image.png)"
      ]
    },
    {
      "cell_type": "markdown",
      "metadata": {
        "id": "LDynWYXL0JC2"
      },
      "source": [
        "Calculation and Simulation:"
      ]
    },
    {
      "cell_type": "code",
      "source": [
        "import numpy as np\n",
        "from scipy.stats import norm\n",
        "\n",
        "# Given parameters\n",
        "mu = 63.5\n",
        "sigma = 12.2\n",
        "\n",
        "# (a) P(X >= 66)\n",
        "z_a = (66 - mu) / sigma\n",
        "prob_a = 1 - norm.cdf(z_a)\n",
        "\n",
        "# (b) P(X <= 41)\n",
        "z_b = (41 - mu) / sigma\n",
        "prob_b = norm.cdf(z_b)\n",
        "\n",
        "# (c) P(41 <= X <= 66)\n",
        "prob_c = norm.cdf(z_a) - norm.cdf(z_b)\n",
        "\n",
        "print(\"a) P(X >= 66):\", prob_a)\n",
        "print(\"b) P(X <= 41):\", prob_b)\n",
        "print(\"c) P(41 <= X <= 66):\", prob_c)\n"
      ],
      "metadata": {
        "colab": {
          "base_uri": "https://localhost:8080/"
        },
        "id": "hkN-Zlfn5U7w",
        "outputId": "81d74713-d4be-4e55-cd6b-96232d2d4909"
      },
      "execution_count": 13,
      "outputs": [
        {
          "output_type": "stream",
          "name": "stdout",
          "text": [
            "a) P(X >= 66): 0.41881808302445966\n",
            "b) P(X <= 41): 0.032572461809411944\n",
            "c) P(41 <= X <= 66): 0.5486094551661284\n"
          ]
        }
      ]
    },
    {
      "cell_type": "markdown",
      "metadata": {
        "id": "vxUz9wMg0JC2"
      },
      "source": [
        "# 5 Exponential distribution"
      ]
    },
    {
      "cell_type": "markdown",
      "metadata": {
        "id": "7c2txX6_0JC2"
      },
      "source": [
        "![image.png](attachment:image.png)"
      ]
    },
    {
      "cell_type": "markdown",
      "metadata": {
        "id": "DzIOpH6g0JC2"
      },
      "source": [
        "Calculation and Simulation:"
      ]
    },
    {
      "cell_type": "code",
      "source": [
        "import numpy as np\n",
        "from scipy.stats import expon\n",
        "\n",
        "# Given mean = 10 => rate = 1 / 10\n",
        "lambda_ = 1 / 10\n",
        "\n",
        "# (a) Probability T >= 10\n",
        "prob_ge_10 = np.exp(-lambda_ * 10)\n",
        "print(\"Probability of waiting 10 or more years:\", prob_ge_10)\n",
        "\n",
        "\n",
        "# scale in scipy's expon is 1/lambda (i.e., the mean)\n",
        "prob_ge_10_alt = expon.sf(10, scale=1/lambda_)\n",
        "print(\"Probability of waiting 10 or more years (via sf):\", prob_ge_10_alt)\n",
        "\n",
        "# (b) Median waiting time\n",
        "median_waiting_time = np.log(2) / lambda_\n",
        "print(\"Median waiting time:\", median_waiting_time)\n"
      ],
      "metadata": {
        "colab": {
          "base_uri": "https://localhost:8080/"
        },
        "id": "7t6o0lrc5vDr",
        "outputId": "5d40c952-ae45-42c4-f18d-8b046b17fd76"
      },
      "execution_count": 14,
      "outputs": [
        {
          "output_type": "stream",
          "name": "stdout",
          "text": [
            "Probability of waiting 10 or more years: 0.36787944117144233\n",
            "Probability of waiting 10 or more years (via sf): 0.36787944117144233\n",
            "Median waiting time: 6.931471805599452\n"
          ]
        }
      ]
    },
    {
      "cell_type": "markdown",
      "metadata": {
        "id": "taOyaiv70JC2"
      },
      "source": []
    }
  ],
  "metadata": {
    "kernelspec": {
      "display_name": "Python 3",
      "language": "python",
      "name": "python3"
    },
    "language_info": {
      "codemirror_mode": {
        "name": "ipython",
        "version": 3
      },
      "file_extension": ".py",
      "mimetype": "text/x-python",
      "name": "python",
      "nbconvert_exporter": "python",
      "pygments_lexer": "ipython3",
      "version": "3.12.5"
    },
    "orig_nbformat": 4,
    "colab": {
      "provenance": []
    }
  },
  "nbformat": 4,
  "nbformat_minor": 0
}