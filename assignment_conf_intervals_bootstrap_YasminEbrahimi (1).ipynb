{
  "cells": [
    {
      "cell_type": "markdown",
      "metadata": {
        "id": "x35kxdn7GNaA"
      },
      "source": [
        "![img](https://i.imgur.com/PsjVt3b.png)"
      ]
    },
    {
      "cell_type": "markdown",
      "metadata": {
        "id": "b-gzWGr-GNaB"
      },
      "source": [
        "You can assume that the population has approximately normal distribution. You can use either probability distributions or bootstrapping."
      ]
    },
    {
      "cell_type": "code",
      "execution_count": 1,
      "metadata": {
        "colab": {
          "base_uri": "https://localhost:8080/"
        },
        "id": "ic05K17UGNaB",
        "outputId": "81ef1793-9136-4f32-9b30-e069cdbab7da"
      },
      "outputs": [
        {
          "output_type": "stream",
          "name": "stdout",
          "text": [
            "95% CI for the mean: [1.780, 2.420]\n",
            "95% CI for the standard deviation: [0.443, 0.929]\n"
          ]
        }
      ],
      "source": [
        "#Solution here\n",
        "import numpy as np\n",
        "from scipy import stats\n",
        "\n",
        "# Given data\n",
        "n = 16\n",
        "xbar = 2.1\n",
        "s = 0.6\n",
        "df = n - 1\n",
        "alpha = 0.05\n",
        "\n",
        "# a) 95% CI for the mean using t-distribution\n",
        "t_crit = stats.t.ppf(1 - alpha/2, df)\n",
        "moe = t_crit * (s / np.sqrt(n))\n",
        "ci_mean = (xbar - moe, xbar + moe)\n",
        "\n",
        "# b) 95% CI for the standard deviation using chi-square distribution\n",
        "chi2_lower = stats.chi2.ppf(alpha/2, df)\n",
        "chi2_upper = stats.chi2.ppf(1 - alpha/2, df)\n",
        "\n",
        "ci_var = (df * s**2 / chi2_upper, df * s**2 / chi2_lower)  # CI for variance\n",
        "ci_sd = (np.sqrt(ci_var[0]), np.sqrt(ci_var[1]))\n",
        "\n",
        "# Display results\n",
        "print(f\"95% CI for the mean: [{ci_mean[0]:.3f}, {ci_mean[1]:.3f}]\")\n",
        "print(f\"95% CI for the standard deviation: [{ci_sd[0]:.3f}, {ci_sd[1]:.3f}]\")\n"
      ]
    },
    {
      "cell_type": "markdown",
      "metadata": {
        "id": "hTmN595NGNaC"
      },
      "source": [
        "![img](https://i.imgur.com/C9zhs93.png)"
      ]
    },
    {
      "cell_type": "code",
      "execution_count": 2,
      "metadata": {
        "colab": {
          "base_uri": "https://localhost:8080/"
        },
        "id": "XBG-93EYGNaC",
        "outputId": "c232595e-e934-46be-d44d-ba7a7d78db9c"
      },
      "outputs": [
        {
          "output_type": "stream",
          "name": "stdout",
          "text": [
            "99% CI for the standard deviation: [2.084, 6.681] years\n"
          ]
        }
      ],
      "source": [
        "#Solution here\n",
        "import numpy as np\n",
        "from scipy import stats\n",
        "\n",
        "# Given data\n",
        "n = 12\n",
        "s = 3.25\n",
        "df = n - 1\n",
        "alpha = 0.01\n",
        "\n",
        "# Chi-square critical values\n",
        "chi2_lower = stats.chi2.ppf(alpha/2, df)\n",
        "chi2_upper = stats.chi2.ppf(1 - alpha/2, df)\n",
        "\n",
        "# Confidence interval for variance\n",
        "ci_var_lower = (df * s**2) / chi2_upper\n",
        "ci_var_upper = (df * s**2) / chi2_lower\n",
        "\n",
        "# Confidence interval for standard deviation\n",
        "ci_sd_lower = np.sqrt(ci_var_lower)\n",
        "ci_sd_upper = np.sqrt(ci_var_upper)\n",
        "\n",
        "print(f\"99% CI for the standard deviation: [{ci_sd_lower:.3f}, {ci_sd_upper:.3f}] years\")\n",
        "\n"
      ]
    }
  ],
  "metadata": {
    "kernelspec": {
      "display_name": "base",
      "language": "python",
      "name": "python3"
    },
    "language_info": {
      "name": "python",
      "version": "3.11.5"
    },
    "orig_nbformat": 4,
    "colab": {
      "provenance": []
    }
  },
  "nbformat": 4,
  "nbformat_minor": 0
}