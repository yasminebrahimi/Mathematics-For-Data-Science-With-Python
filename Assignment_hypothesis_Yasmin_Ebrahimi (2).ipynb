{
  "cells": [
    {
      "cell_type": "markdown",
      "metadata": {
        "id": "kiLY1rA8NmmZ"
      },
      "source": [
        "## 1"
      ]
    },
    {
      "cell_type": "markdown",
      "metadata": {
        "id": "RwNyUCJ8Nmma"
      },
      "source": [
        "A random sample of 10 persons had the following IQs.:\n",
        "* ```70,120,110,101,88,83,95,98,107,100```\n",
        "\n",
        "Does the data support the assumption of a population mean of IQ of 100 (at 5 % level of significance)\n",
        "\n",
        "(Ans. Yes:\n",
        "\n",
        "* p value: 0.550419 (greater than 0.05)\n",
        "* t-test statistic value: -0.620,  critical value: +- 2.262)"
      ]
    },
    {
      "cell_type": "code",
      "source": [
        "import numpy as np\n",
        "from scipy import stats"
      ],
      "metadata": {
        "id": "SQTW20q9VTTD"
      },
      "execution_count": null,
      "outputs": []
    },
    {
      "cell_type": "code",
      "source": [
        "# IQ data\n",
        "data = [70, 120, 110, 101, 88, 83, 95, 98, 107, 100]\n",
        "\n",
        "# Compute statistics\n",
        "mean = np.mean(data)\n",
        "std = np.std(data, ddof=1)\n",
        "n = len(data)\n",
        "df = n - 1"
      ],
      "metadata": {
        "id": "aHRUoOQ9VU_-"
      },
      "execution_count": null,
      "outputs": []
    },
    {
      "cell_type": "code",
      "source": [
        "# Manual t-test\n",
        "t_statistic = (mean - 100) / (std / np.sqrt(n))\n",
        "p_value = 2 * stats.t.cdf(-abs(t_statistic), df)\n",
        "critical_value = stats.t.ppf(0.975, df)"
      ],
      "metadata": {
        "id": "Jh7_IzXgVWx5"
      },
      "execution_count": null,
      "outputs": []
    },
    {
      "cell_type": "code",
      "source": [
        "print(f\"Sample mean: {mean:.2f}\")\n",
        "print(f\"Sample standard deviation: {std:.2f}\")\n",
        "print(f\"t-statistic: {t_statistic:.3f}\")\n",
        "print(f\"p-value: {p_value:.6f}\")\n",
        "print(f\"Critical value (alpha=0.05): ±{critical_value:.3f}\")\n",
        "\n",
        "# Alternatively, using SciPy's built-in function\n",
        "t_scipy, p_scipy = stats.ttest_1samp(data, 100)\n",
        "print(f\"\\nSciPy t-test → t = {t_scipy:.3f}, p = {p_scipy:.6f}\")"
      ],
      "metadata": {
        "colab": {
          "base_uri": "https://localhost:8080/"
        },
        "id": "IgAgWzp-VYK4",
        "outputId": "238e468b-426c-4e11-ce71-411f763981c0"
      },
      "execution_count": null,
      "outputs": [
        {
          "output_type": "stream",
          "name": "stdout",
          "text": [
            "Sample mean: 97.20\n",
            "Sample standard deviation: 14.27\n",
            "t-statistic: -0.620\n",
            "p-value: 0.550419\n",
            "Critical value (alpha=0.05): ±2.262\n",
            "\n",
            "SciPy t-test → t = -0.620, p = 0.550419\n"
          ]
        }
      ]
    },
    {
      "cell_type": "markdown",
      "source": [
        "The p-value (0.5504) is greater than 0.05, and the t-statistic (–0.620) lies between the critical values ±2.262, so we fail to reject the hypothesis that the population mean IQ is 100.\n",
        "\n"
      ],
      "metadata": {
        "id": "2tUIvzyiRD2F"
      }
    },
    {
      "cell_type": "markdown",
      "metadata": {
        "id": "qA7jP3W9Nmmb"
      },
      "source": [
        "## 2"
      ]
    },
    {
      "cell_type": "markdown",
      "metadata": {
        "id": "IMYFqzIdNmmc"
      },
      "source": [
        "Engine parts with the axle diameter of 0.7 cm are manufactured. A random sample of produced parts axle diameters are in the file ```sample3.csv```. Based on the sample, would you say that the work is inferior? (Is the sample mean significantly different from the stated value ot 0.7 cm? Use the significance level 0.05)\n",
        "\n",
        "(Ans. It is inferior:\n",
        "* p value: 0.002602\n",
        "* t-test statistic value: 4.119 and critical value: +- 2.262)"
      ]
    },
    {
      "cell_type": "code",
      "source": [
        "# 1. Upload the file\n",
        "from google.colab import files\n",
        "uploaded = files.upload()  # select sample3.csv when prompted\n",
        "\n",
        "# 2. Read into DataFrame\n",
        "import io\n",
        "import pandas as pd\n",
        "import scipy.stats as stats\n",
        "\n",
        "fname = next(iter(uploaded))\n",
        "df = pd.read_csv(io.BytesIO(uploaded[fname]))\n",
        "\n",
        "# 3. Extract the sample column\n",
        "#    (assumes your CSV has only one column of diameters)\n",
        "sample = df.iloc[:, 0]\n",
        "\n",
        "# 4. Given parameters\n",
        "mu = 0.7\n",
        "alpha = 0.05\n",
        "\n",
        "# 5. Sample statistics\n",
        "n = len(sample)\n",
        "mean = sample.mean()\n",
        "std = sample.std(ddof=1)\n",
        "t_stat = (mean - mu) / (std / (n**0.5))\n",
        "dfree = n - 1\n",
        "p_value = 2 * (1 - stats.t.cdf(abs(t_stat), dfree))\n",
        "crit_value = stats.t.ppf(1 - alpha/2, dfree)\n",
        "\n",
        "# 6. Display results\n",
        "print(f\"Sample size (n): {n}\")\n",
        "print(f\"Sample mean: {mean:.5f}\")\n",
        "print(f\"Sample std dev: {std:.5f}\")\n",
        "print(f\"t-statistic: {t_stat:.3f}\")\n",
        "print(f\"Degrees of freedom: {dfree}\")\n",
        "print(f\"Critical t-value (±): {crit_value:.3f}\")\n",
        "print(f\"p-value: {p_value:.6f}\")\n"
      ],
      "metadata": {
        "colab": {
          "base_uri": "https://localhost:8080/",
          "height": 194
        },
        "id": "IW1KdBcOYqiG",
        "outputId": "f7d8a152-7737-4362-a75d-9b1747c94fa9"
      },
      "execution_count": 2,
      "outputs": [
        {
          "output_type": "display_data",
          "data": {
            "text/plain": [
              "<IPython.core.display.HTML object>"
            ],
            "text/html": [
              "\n",
              "     <input type=\"file\" id=\"files-63537f13-995f-4e63-a614-f11a3b2462c8\" name=\"files[]\" multiple disabled\n",
              "        style=\"border:none\" />\n",
              "     <output id=\"result-63537f13-995f-4e63-a614-f11a3b2462c8\">\n",
              "      Upload widget is only available when the cell has been executed in the\n",
              "      current browser session. Please rerun this cell to enable.\n",
              "      </output>\n",
              "      <script>// Copyright 2017 Google LLC\n",
              "//\n",
              "// Licensed under the Apache License, Version 2.0 (the \"License\");\n",
              "// you may not use this file except in compliance with the License.\n",
              "// You may obtain a copy of the License at\n",
              "//\n",
              "//      http://www.apache.org/licenses/LICENSE-2.0\n",
              "//\n",
              "// Unless required by applicable law or agreed to in writing, software\n",
              "// distributed under the License is distributed on an \"AS IS\" BASIS,\n",
              "// WITHOUT WARRANTIES OR CONDITIONS OF ANY KIND, either express or implied.\n",
              "// See the License for the specific language governing permissions and\n",
              "// limitations under the License.\n",
              "\n",
              "/**\n",
              " * @fileoverview Helpers for google.colab Python module.\n",
              " */\n",
              "(function(scope) {\n",
              "function span(text, styleAttributes = {}) {\n",
              "  const element = document.createElement('span');\n",
              "  element.textContent = text;\n",
              "  for (const key of Object.keys(styleAttributes)) {\n",
              "    element.style[key] = styleAttributes[key];\n",
              "  }\n",
              "  return element;\n",
              "}\n",
              "\n",
              "// Max number of bytes which will be uploaded at a time.\n",
              "const MAX_PAYLOAD_SIZE = 100 * 1024;\n",
              "\n",
              "function _uploadFiles(inputId, outputId) {\n",
              "  const steps = uploadFilesStep(inputId, outputId);\n",
              "  const outputElement = document.getElementById(outputId);\n",
              "  // Cache steps on the outputElement to make it available for the next call\n",
              "  // to uploadFilesContinue from Python.\n",
              "  outputElement.steps = steps;\n",
              "\n",
              "  return _uploadFilesContinue(outputId);\n",
              "}\n",
              "\n",
              "// This is roughly an async generator (not supported in the browser yet),\n",
              "// where there are multiple asynchronous steps and the Python side is going\n",
              "// to poll for completion of each step.\n",
              "// This uses a Promise to block the python side on completion of each step,\n",
              "// then passes the result of the previous step as the input to the next step.\n",
              "function _uploadFilesContinue(outputId) {\n",
              "  const outputElement = document.getElementById(outputId);\n",
              "  const steps = outputElement.steps;\n",
              "\n",
              "  const next = steps.next(outputElement.lastPromiseValue);\n",
              "  return Promise.resolve(next.value.promise).then((value) => {\n",
              "    // Cache the last promise value to make it available to the next\n",
              "    // step of the generator.\n",
              "    outputElement.lastPromiseValue = value;\n",
              "    return next.value.response;\n",
              "  });\n",
              "}\n",
              "\n",
              "/**\n",
              " * Generator function which is called between each async step of the upload\n",
              " * process.\n",
              " * @param {string} inputId Element ID of the input file picker element.\n",
              " * @param {string} outputId Element ID of the output display.\n",
              " * @return {!Iterable<!Object>} Iterable of next steps.\n",
              " */\n",
              "function* uploadFilesStep(inputId, outputId) {\n",
              "  const inputElement = document.getElementById(inputId);\n",
              "  inputElement.disabled = false;\n",
              "\n",
              "  const outputElement = document.getElementById(outputId);\n",
              "  outputElement.innerHTML = '';\n",
              "\n",
              "  const pickedPromise = new Promise((resolve) => {\n",
              "    inputElement.addEventListener('change', (e) => {\n",
              "      resolve(e.target.files);\n",
              "    });\n",
              "  });\n",
              "\n",
              "  const cancel = document.createElement('button');\n",
              "  inputElement.parentElement.appendChild(cancel);\n",
              "  cancel.textContent = 'Cancel upload';\n",
              "  const cancelPromise = new Promise((resolve) => {\n",
              "    cancel.onclick = () => {\n",
              "      resolve(null);\n",
              "    };\n",
              "  });\n",
              "\n",
              "  // Wait for the user to pick the files.\n",
              "  const files = yield {\n",
              "    promise: Promise.race([pickedPromise, cancelPromise]),\n",
              "    response: {\n",
              "      action: 'starting',\n",
              "    }\n",
              "  };\n",
              "\n",
              "  cancel.remove();\n",
              "\n",
              "  // Disable the input element since further picks are not allowed.\n",
              "  inputElement.disabled = true;\n",
              "\n",
              "  if (!files) {\n",
              "    return {\n",
              "      response: {\n",
              "        action: 'complete',\n",
              "      }\n",
              "    };\n",
              "  }\n",
              "\n",
              "  for (const file of files) {\n",
              "    const li = document.createElement('li');\n",
              "    li.append(span(file.name, {fontWeight: 'bold'}));\n",
              "    li.append(span(\n",
              "        `(${file.type || 'n/a'}) - ${file.size} bytes, ` +\n",
              "        `last modified: ${\n",
              "            file.lastModifiedDate ? file.lastModifiedDate.toLocaleDateString() :\n",
              "                                    'n/a'} - `));\n",
              "    const percent = span('0% done');\n",
              "    li.appendChild(percent);\n",
              "\n",
              "    outputElement.appendChild(li);\n",
              "\n",
              "    const fileDataPromise = new Promise((resolve) => {\n",
              "      const reader = new FileReader();\n",
              "      reader.onload = (e) => {\n",
              "        resolve(e.target.result);\n",
              "      };\n",
              "      reader.readAsArrayBuffer(file);\n",
              "    });\n",
              "    // Wait for the data to be ready.\n",
              "    let fileData = yield {\n",
              "      promise: fileDataPromise,\n",
              "      response: {\n",
              "        action: 'continue',\n",
              "      }\n",
              "    };\n",
              "\n",
              "    // Use a chunked sending to avoid message size limits. See b/62115660.\n",
              "    let position = 0;\n",
              "    do {\n",
              "      const length = Math.min(fileData.byteLength - position, MAX_PAYLOAD_SIZE);\n",
              "      const chunk = new Uint8Array(fileData, position, length);\n",
              "      position += length;\n",
              "\n",
              "      const base64 = btoa(String.fromCharCode.apply(null, chunk));\n",
              "      yield {\n",
              "        response: {\n",
              "          action: 'append',\n",
              "          file: file.name,\n",
              "          data: base64,\n",
              "        },\n",
              "      };\n",
              "\n",
              "      let percentDone = fileData.byteLength === 0 ?\n",
              "          100 :\n",
              "          Math.round((position / fileData.byteLength) * 100);\n",
              "      percent.textContent = `${percentDone}% done`;\n",
              "\n",
              "    } while (position < fileData.byteLength);\n",
              "  }\n",
              "\n",
              "  // All done.\n",
              "  yield {\n",
              "    response: {\n",
              "      action: 'complete',\n",
              "    }\n",
              "  };\n",
              "}\n",
              "\n",
              "scope.google = scope.google || {};\n",
              "scope.google.colab = scope.google.colab || {};\n",
              "scope.google.colab._files = {\n",
              "  _uploadFiles,\n",
              "  _uploadFilesContinue,\n",
              "};\n",
              "})(self);\n",
              "</script> "
            ]
          },
          "metadata": {}
        },
        {
          "output_type": "stream",
          "name": "stdout",
          "text": [
            "Saving sample3.csv to sample3.csv\n",
            "Sample size (n): 9\n",
            "Sample mean: 0.74548\n",
            "Sample std dev: 0.03772\n",
            "t-statistic: 3.618\n",
            "Degrees of freedom: 8\n",
            "Critical t-value (±): 2.306\n",
            "p-value: 0.006803\n"
          ]
        }
      ]
    },
    {
      "cell_type": "markdown",
      "source": [
        "The sample’s average axle diameter is approximately **0.745 cm** instead of the target **0.700 cm**.  \n",
        "Our test statistic (t = 3.618) exceeds the critical value (±2.306), and the p-value (0.0068) is below 0.05.  \n",
        "Therefore, we reject the null hypothesis and conclude that the manufactured parts are significantly off-spec and the process is inferior.\n"
      ],
      "metadata": {
        "id": "ty2vtIL3UJc8"
      }
    },
    {
      "cell_type": "markdown",
      "metadata": {
        "id": "9ULAf3ZTNmmd"
      },
      "source": [
        "# 3\n",
        "Repeat part 1 using the bootstrap method"
      ]
    },
    {
      "cell_type": "code",
      "source": [
        "import numpy as np\n",
        "\n",
        "# Original data\n",
        "data = np.array([70, 120, 110, 101, 88, 83, 95, 98, 107, 100])\n",
        "\n",
        "# Number of bootstrap samples\n",
        "n_boot = 10000\n",
        "np.random.seed(42)\n",
        "\n",
        "# Bootstrap distribution of the sample mean\n",
        "boot_means = np.array([np.mean(np.random.choice(data, size=len(data), replace=True))\n",
        "                       for _ in range(n_boot)])\n",
        "ci_lower, ci_upper = np.percentile(boot_means, [2.5, 97.5])\n",
        "\n",
        "# Bootstrap p-value for testing H0: mean = 100\n",
        "observed_mean = np.mean(data)\n",
        "# Center data under null hypothesis\n",
        "data_centered = data - observed_mean + 100\n",
        "boot_means_null = np.array([\n",
        "    np.mean(np.random.choice(data_centered, size=len(data_centered), replace=True))\n",
        "    for _ in range(n_boot)\n",
        "])\n",
        "# Two-sided p-value\n",
        "p_boot = np.mean(np.abs(boot_means_null - 100) >= abs(observed_mean - 100))\n",
        "\n",
        "# Display results\n",
        "print(f\"Observed sample mean: {observed_mean:.3f}\")\n",
        "print(f\"Bootstrap 95% CI for mean: [{ci_lower:.3f}, {ci_upper:.3f}]\")\n",
        "print(f\"Bootstrap p-value: {p_boot:.4f}\")\n"
      ],
      "metadata": {
        "colab": {
          "base_uri": "https://localhost:8080/"
        },
        "id": "3e9DxcAvX4tM",
        "outputId": "11e8fef8-0eb4-49ca-e4c2-54b7e80658b4"
      },
      "execution_count": 1,
      "outputs": [
        {
          "output_type": "stream",
          "name": "stdout",
          "text": [
            "Observed sample mean: 97.200\n",
            "Bootstrap 95% CI for mean: [88.500, 105.200]\n",
            "Bootstrap p-value: 0.5188\n"
          ]
        }
      ]
    },
    {
      "cell_type": "markdown",
      "source": [
        "The 95 % bootstrap confidence interval covers 100, and the bootstrap p-value (0.5188) is much larger than 0.05.\n",
        "Yes, the data are consistent with a population mean IQ of 100."
      ],
      "metadata": {
        "id": "24icvn79SFPz"
      }
    },
    {
      "cell_type": "markdown",
      "metadata": {
        "id": "H7qnraZRNmme"
      },
      "source": [
        "# 4\n",
        "Repeat part 2 using bootstrap"
      ]
    },
    {
      "cell_type": "code",
      "source": [
        "import numpy as np\n",
        "import pandas as pd\n",
        "\n",
        "# 1. Load your data\n",
        "df = pd.read_csv('sample3.csv')       # or adjust path if needed\n",
        "sample = df.iloc[:, 0].values         # assumes a single column of diameters\n",
        "\n",
        "# 2. Observed statistics\n",
        "mu = 0.7\n",
        "obs_mean = sample.mean()\n",
        "\n",
        "# 3. Create a “shifted” sample so that H0 is true (mean = 0.7)\n",
        "shifted = sample - obs_mean + mu\n",
        "\n",
        "# 4. Bootstrap the null distribution of the mean\n",
        "n_boot = 10000\n",
        "boot_means_null = np.empty(n_boot)\n",
        "for i in range(n_boot):\n",
        "    bs = np.random.choice(shifted, size=sample.size, replace=True)\n",
        "    boot_means_null[i] = bs.mean()\n",
        "\n",
        "# 5. Two‐sided p‐value\n",
        "p_value = np.mean(np.abs(boot_means_null - mu) >= np.abs(obs_mean - mu))\n",
        "\n",
        "# 6. Bootstrap CI for the actual sample mean\n",
        "boot_means = np.empty(n_boot)\n",
        "for i in range(n_boot):\n",
        "    bs = np.random.choice(sample, size=sample.size, replace=True)\n",
        "    boot_means[i] = bs.mean()\n",
        "ci_lower, ci_upper = np.percentile(boot_means, [2.5, 97.5])\n",
        "\n",
        "# 7. Print results\n",
        "print(f\"Observed mean:        {obs_mean:.5f}\")\n",
        "print(f\"Bootstrap p-value:    {p_value:.4f}\")\n",
        "print(f\"95% bootstrap CI:     [{ci_lower:.5f}, {ci_upper:.5f}]\")\n"
      ],
      "metadata": {
        "colab": {
          "base_uri": "https://localhost:8080/"
        },
        "id": "VbkYXjsPY-rP",
        "outputId": "bb4fafb0-57b6-4797-8a11-071ed82d2ccc"
      },
      "execution_count": 3,
      "outputs": [
        {
          "output_type": "stream",
          "name": "stdout",
          "text": [
            "Observed mean:        0.74548\n",
            "Bootstrap p-value:    0.0005\n",
            "95% bootstrap CI:     [0.72040, 0.76638]\n"
          ]
        }
      ]
    },
    {
      "cell_type": "markdown",
      "source": [
        "Because the p-value is well below 0.05, we again reject \\(H_0\\). The parts’ average diameter is significantly different from 0.700 cm—confirming the process is off specification."
      ],
      "metadata": {
        "id": "uuncYcgKUy1E"
      }
    }
  ],
  "metadata": {
    "kernelspec": {
      "display_name": "base",
      "language": "python",
      "name": "python3"
    },
    "language_info": {
      "codemirror_mode": {
        "name": "ipython",
        "version": 3
      },
      "file_extension": ".py",
      "mimetype": "text/x-python",
      "name": "python",
      "nbconvert_exporter": "python",
      "pygments_lexer": "ipython3",
      "version": "3.9.12"
    },
    "orig_nbformat": 4,
    "colab": {
      "provenance": []
    }
  },
  "nbformat": 4,
  "nbformat_minor": 0
}