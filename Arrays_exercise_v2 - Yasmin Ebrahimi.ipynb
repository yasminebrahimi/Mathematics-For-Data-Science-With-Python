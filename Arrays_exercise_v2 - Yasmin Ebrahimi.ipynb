{
 "cells": [
  {
   "cell_type": "markdown",
   "metadata": {},
   "source": [
    "## Arrays"
   ]
  },
  {
   "cell_type": "code",
   "execution_count": 3,
   "metadata": {},
   "outputs": [],
   "source": [
    "import numpy as np"
   ]
  },
  {
   "cell_type": "markdown",
   "metadata": {},
   "source": [
    "# Mark 1"
   ]
  },
  {
   "cell_type": "markdown",
   "metadata": {},
   "source": [
    "Solve the pair of equations \n",
    "   \n",
    "   $$\\begin{align} 2x_1 + 3x_2 &= 3 \\\\ 5x_1 + 7x_2 &= 10 \\end{align}$$\n",
    "   "
   ]
  },
  {
   "cell_type": "code",
   "execution_count": null,
   "metadata": {},
   "outputs": [
    {
     "name": "stdout",
     "output_type": "stream",
     "text": [
      "x1 = 9.00000000000001, x2 = -5.000000000000007\n"
     ]
    }
   ],
   "source": [
    "# A = coefficient matrix and B = constant matrix\n",
    "A = np.array([[2, 3], [5, 7]])\n",
    "B = np.array([3, 10])\n",
    "\n",
    "solution = np.linalg.solve(A, B)\n",
    "\n",
    "print(f\"x1 = {solution[0]}, x2 = {solution[1]}\")"
   ]
  },
  {
   "cell_type": "markdown",
   "metadata": {},
   "source": [
    "# Mark 2\n",
    "A matrix $A$ is defined by the formula $$A_{ij} = 1/(i + j - 1), i = 1,...,n, j = 1,...,n.$$\n",
    "   Write a function whose header is `def matr(n):` that returns the matrix $A$ for the given value of `n`\n",
    "\n",
    "   Execute function for `print(matr(3))` and `print(matr(5))`"
   ]
  },
  {
   "cell_type": "code",
   "execution_count": 4,
   "metadata": {},
   "outputs": [],
   "source": [
    "def matr(n):\n",
    "    return np.array([[1 / (i + j - 1) for j in range(1, n + 1)] for i in range(1, n + 1)])\n"
   ]
  },
  {
   "cell_type": "code",
   "execution_count": 10,
   "metadata": {},
   "outputs": [
    {
     "data": {
      "text/plain": [
       "array([[1.        , 0.5       , 0.33333333],\n",
       "       [0.5       , 0.33333333, 0.25      ],\n",
       "       [0.33333333, 0.25      , 0.2       ]])"
      ]
     },
     "execution_count": 10,
     "metadata": {},
     "output_type": "execute_result"
    }
   ],
   "source": [
    "matrix_3 = matr(3)\n",
    "\n",
    "matrix_3"
   ]
  },
  {
   "cell_type": "code",
   "execution_count": 11,
   "metadata": {},
   "outputs": [
    {
     "data": {
      "text/plain": [
       "array([[1.        , 0.5       , 0.33333333, 0.25      , 0.2       ],\n",
       "       [0.5       , 0.33333333, 0.25      , 0.2       , 0.16666667],\n",
       "       [0.33333333, 0.25      , 0.2       , 0.16666667, 0.14285714],\n",
       "       [0.25      , 0.2       , 0.16666667, 0.14285714, 0.125     ],\n",
       "       [0.2       , 0.16666667, 0.14285714, 0.125     , 0.11111111]])"
      ]
     },
     "execution_count": 11,
     "metadata": {},
     "output_type": "execute_result"
    }
   ],
   "source": [
    "matrix_5 = matr(5)\n",
    "\n",
    "\n",
    "matrix_5"
   ]
  },
  {
   "attachments": {
    "image-2.png": {
     "image/png": "[encoded data removed]"
    },
    "image.png": {
     "image/png": "[encoded data removed]"
    }
   },
   "cell_type": "markdown",
   "metadata": {},
   "source": [
    "(Ans)\n",
    "\n",
    "matr(3): ![image.png](attachment:image.png) \n",
    "\n",
    "matr(5): ![image-2.png](attachment:image-2.png)"
   ]
  },
  {
   "attachments": {
    "image.png": {
     "image/png": "[encoded data removed]"
    }
   },
   "cell_type": "markdown",
   "metadata": {},
   "source": [
    "# Mark 3\n",
    "The coeffcients of a system of n equations are formed in the following way\n",
    "$$\\begin{align} x_1 + x_2 + x_3 + ... + x_n &= n \\\\  2x_2 + 2x_3 + ... 2x_n &=n-1  \\\\ ... \\\\ nx_n &= 1 \\end{align}$$\n",
    "\n",
    "(For example, if $n=3$ the system is $$\\begin{align} x_1 + x_2 + x_3 &= 3\\\\2x_2+2x_3 &= 2\\\\3x_3 &= 1 \\end{align}$$)\n",
    "\n",
    "Write a function `def solve_sys(n)` that solves the system for any $n \\geq 1$ \n",
    "\n",
    "Execute the function for the cases `solve_sys(2)`, `solve_sys(3)` and `solve_sys(6)` for $n=3$ the solution should be \n",
    "\n",
    "![image.png](attachment:image.png)"
   ]
  },
  {
   "cell_type": "markdown",
   "metadata": {},
   "source": [
    "#"
   ]
  },
  {
   "cell_type": "code",
   "execution_count": 16,
   "metadata": {},
   "outputs": [],
   "source": [
    "def solve_sys(n):\n",
    "    \n",
    "    A = np.zeros((n, n))\n",
    "    for i in range(n):\n",
    "        A[i, i:] = i + 1\n",
    "    \n",
    "   \n",
    "    B = np.array([n - i for i in range(n)])\n",
    "    \n",
    "   \n",
    "    X = np.linalg.solve(A, B)\n",
    "    \n",
    "    return X\n",
    "\n",
    "# Examples: \n",
    "solution_2 = solve_sys(2)\n",
    "solution_3 = solve_sys(3)\n",
    "solution_6 = solve_sys(6)"
   ]
  },
  {
   "cell_type": "code",
   "execution_count": 17,
   "metadata": {},
   "outputs": [
    {
     "data": {
      "text/plain": [
       "array([1.5, 0.5])"
      ]
     },
     "execution_count": 17,
     "metadata": {},
     "output_type": "execute_result"
    }
   ],
   "source": [
    "solution_2"
   ]
  },
  {
   "cell_type": "code",
   "execution_count": 18,
   "metadata": {},
   "outputs": [
    {
     "data": {
      "text/plain": [
       "array([2.        , 0.66666667, 0.33333333])"
      ]
     },
     "execution_count": 18,
     "metadata": {},
     "output_type": "execute_result"
    }
   ],
   "source": [
    "solution_3"
   ]
  },
  {
   "cell_type": "code",
   "execution_count": 19,
   "metadata": {},
   "outputs": [
    {
     "data": {
      "text/plain": [
       "array([3.5       , 1.16666667, 0.58333333, 0.35      , 0.23333333,\n",
       "       0.16666667])"
      ]
     },
     "execution_count": 19,
     "metadata": {},
     "output_type": "execute_result"
    }
   ],
   "source": [
    "solution_6"
   ]
  }
 ],
 "metadata": {
  "kernelspec": {
   "display_name": "Python 3",
   "language": "python",
   "name": "python3"
  },
  "language_info": {
   "codemirror_mode": {
    "name": "ipython",
    "version": 3
   },
   "file_extension": ".py",
   "mimetype": "text/x-python",
   "name": "python",
   "nbconvert_exporter": "python",
   "pygments_lexer": "ipython3",
   "version": "3.12.5"
  }
 },
 "nbformat": 4,
 "nbformat_minor": 2
}
